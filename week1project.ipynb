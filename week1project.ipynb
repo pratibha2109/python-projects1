{
 "cells": [
  {
   "cell_type": "code",
   "execution_count": 1,
   "id": "2e35b71c-06ec-4a19-91ab-5e4be64927da",
   "metadata": {},
   "outputs": [
    {
     "name": "stdin",
     "output_type": "stream",
     "text": [
      "Enter temperature in Celsius:  72\n"
     ]
    },
    {
     "name": "stdout",
     "output_type": "stream",
     "text": [
      "Temperature in Fahrenheit: 161.6\n"
     ]
    }
   ],
   "source": [
    "# Hands-On Programs\n",
    "# Temperature Converter: Celsius to Fahrenheit\n",
    "celsius = float(input(\"Enter temperature in Celsius: \"))\n",
    "fahrenheit = (celsius * 9/5) + 32\n",
    "print(\"Temperature in Fahrenheit:\", fahrenheit)\n"
   ]
  },
  {
   "cell_type": "code",
   "execution_count": 3,
   "id": "dd2f7e0c-2539-4b1b-aaa3-6dfdea9e7c26",
   "metadata": {},
   "outputs": [
    {
     "name": "stdin",
     "output_type": "stream",
     "text": [
      "Enter first number:  23\n",
      "Enter second number:  32\n"
     ]
    },
    {
     "name": "stdout",
     "output_type": "stream",
     "text": [
      "Choose operation: +, -, *, /\n"
     ]
    },
    {
     "name": "stdin",
     "output_type": "stream",
     "text": [
      "Enter operator:  *\n"
     ]
    },
    {
     "name": "stdout",
     "output_type": "stream",
     "text": [
      "Result: 736.0\n"
     ]
    }
   ],
   "source": [
    "# Simple Calculator\n",
    "num1 = float(input(\"Enter first number: \"))\n",
    "num2 = float(input(\"Enter second number: \"))\n",
    "\n",
    "print(\"Choose operation: +, -, *, /\")\n",
    "op = input(\"Enter operator: \")\n",
    "\n",
    "if op == '+':\n",
    "    print(\"Result:\", num1 + num2)\n",
    "elif op == '-':\n",
    "    print(\"Result:\", num1 - num2)\n",
    "elif op == '*':\n",
    "    print(\"Result:\", num1 * num2)\n",
    "elif op == '/':\n",
    "    if num2 != 0:\n",
    "        print(\"Result:\", num1 / num2)\n",
    "    else:\n",
    "        print(\"Error: Division by zero\")\n",
    "else:\n",
    "    print(\"Invalid operator\")\n"
   ]
  },
  {
   "cell_type": "code",
   "execution_count": null,
   "id": "5c792818-d21f-4606-aff1-26b0faacb2b9",
   "metadata": {},
   "outputs": [],
   "source": [
    "# Calculate the average temperature of a week\n",
    "# Average Temperature Calculator\n",
    "temperatures = []\n",
    "\n",
    "# Taking input for 7 days\n",
    "for i in range(7):\n",
    "    temp = float(input(f\"Enter temperature for day {i+1}: \"))\n",
    "    temperatures.append(temp)\n",
    "\n",
    "# Calculate average\n",
    "average_temp = sum(temperatures) / len(temperatures)\n",
    "\n",
    "print(\"Average temperature of the week:\", average_temp)\n",
    "\n"
   ]
  },
  {
   "cell_type": "code",
   "execution_count": null,
   "id": "c6995c11-251f-4837-b6d7-aa555ae731bf",
   "metadata": {},
   "outputs": [],
   "source": []
  }
 ],
 "metadata": {
  "kernelspec": {
   "display_name": "Python 3 (ipykernel)",
   "language": "python",
   "name": "python3"
  },
  "language_info": {
   "codemirror_mode": {
    "name": "ipython",
    "version": 3
   },
   "file_extension": ".py",
   "mimetype": "text/x-python",
   "name": "python",
   "nbconvert_exporter": "python",
   "pygments_lexer": "ipython3",
   "version": "3.12.7"
  }
 },
 "nbformat": 4,
 "nbformat_minor": 5
}
